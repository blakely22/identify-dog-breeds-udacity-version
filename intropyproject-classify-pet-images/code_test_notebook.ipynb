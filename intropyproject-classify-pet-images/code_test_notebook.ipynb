{
 "cells": [
  {
   "cell_type": "code",
   "execution_count": 2,
   "metadata": {},
   "outputs": [
    {
     "name": "stdout",
     "output_type": "stream",
     "text": [
      "\n",
      "Total Elapsed Runtime: 5.014030456542969 in seconds.\n",
      "\n",
      "Total Elapsed Runtime: 0:0:5\n"
     ]
    }
   ],
   "source": [
    "# Imports time() and sleep() functions from time module\n",
    "from time import time, sleep\n",
    "\n",
    "# Sets start time\n",
    "start_time = time()\n",
    "\n",
    "# Replace sleep(5) below with code you want to time\n",
    "sleep(5)\n",
    "\n",
    "# Sets end time\n",
    "end_time = time()\n",
    "\n",
    "# Computes overall runtime in seconds\n",
    "tot_time = end_time - start_time\n",
    "\n",
    "# Prints overall runtime in seconds\n",
    "print(\"\\nTotal Elapsed Runtime:\", tot_time, \"in seconds.\")\n",
    "\n",
    "# Prints overall runtime in format hh:mm:ss\n",
    "print(\"\\nTotal Elapsed Runtime:\", str( int( (tot_time / 3600) ) ) + \":\" +\n",
    "          str( int(  ( (tot_time % 3600) / 60 )  ) ) + \":\" + \n",
    "          str( int(  ( (tot_time % 3600) % 60 ) ) ) ) "
   ]
  },
  {
   "cell_type": "code",
   "execution_count": 4,
   "metadata": {},
   "outputs": [
    {
     "name": "stderr",
     "output_type": "stream",
     "text": [
      "usage: ipykernel_launcher.py [-h] [--dir DIR]\n",
      "ipykernel_launcher.py: error: unrecognized arguments: --ip=127.0.0.1 --stdin=9008 --control=9006 --hb=9005 --Session.signature_scheme=\"hmac-sha256\" --Session.key=b\"58f88ef9-eefd-4640-aed6-5a116cca014e\" --shell=9007 --transport=\"tcp\" --iopub=9009 --f=c:\\Users\\blakely22\\AppData\\Roaming\\jupyter\\runtime\\kernel-v2-6012pIRazBH9NuPH.json\n"
     ]
    },
    {
     "ename": "SystemExit",
     "evalue": "2",
     "output_type": "error",
     "traceback": [
      "An exception has occurred, use %tb to see the full traceback.\n",
      "\u001b[1;31mSystemExit\u001b[0m\u001b[1;31m:\u001b[0m 2\n"
     ]
    },
    {
     "name": "stderr",
     "output_type": "stream",
     "text": [
      "C:\\Users\\blakely22\\AppData\\Roaming\\Python\\Python310\\site-packages\\IPython\\core\\interactiveshell.py:3386: UserWarning: To exit: use 'exit', 'quit', or Ctrl-D.\n",
      "  warn(\"To exit: use 'exit', 'quit', or Ctrl-D.\", stacklevel=1)\n"
     ]
    }
   ],
   "source": [
    "import argparse\n",
    "\n",
    "# Creates Argument Parser object named parser\n",
    "parser = argparse.ArgumentParser()\n",
    "\n",
    "# Argument 1: that's a path to a folder\n",
    "parser.add_argument('--dir', type = str, default = 'pet_images/', \n",
    "                    help = 'path to the folder of pet images') \n",
    "\n",
    "# Assigns variable in_args to parse_args()\n",
    "in_args = parser.parse_args()\n",
    "\n",
    "# Accesses values of Argument 1 by printing it\n",
    "print(\"Argument 1:\", in_args.dir)                    "
   ]
  }
 ],
 "metadata": {
  "kernelspec": {
   "display_name": "Python 3.10.6 ('test')",
   "language": "python",
   "name": "python3"
  },
  "language_info": {
   "codemirror_mode": {
    "name": "ipython",
    "version": 3
   },
   "file_extension": ".py",
   "mimetype": "text/x-python",
   "name": "python",
   "nbconvert_exporter": "python",
   "pygments_lexer": "ipython3",
   "version": "3.10.6"
  },
  "orig_nbformat": 4,
  "vscode": {
   "interpreter": {
    "hash": "14603a3ed1299574cbfecfa53f65f407f727394bdda1e8c7fe20d5d57efd7def"
   }
  }
 },
 "nbformat": 4,
 "nbformat_minor": 2
}
