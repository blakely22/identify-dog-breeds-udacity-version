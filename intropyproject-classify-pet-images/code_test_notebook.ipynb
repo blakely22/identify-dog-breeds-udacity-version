{
 "cells": [
  {
   "cell_type": "code",
   "execution_count": 2,
   "metadata": {},
   "outputs": [
    {
     "name": "stdout",
     "output_type": "stream",
     "text": [
      "\n",
      "Total Elapsed Runtime: 5.014030456542969 in seconds.\n",
      "\n",
      "Total Elapsed Runtime: 0:0:5\n"
     ]
    }
   ],
   "source": [
    "# Imports time() and sleep() functions from time module\n",
    "from time import time, sleep\n",
    "\n",
    "# Sets start time\n",
    "start_time = time()\n",
    "\n",
    "# Replace sleep(5) below with code you want to time\n",
    "sleep(5)\n",
    "\n",
    "# Sets end time\n",
    "end_time = time()\n",
    "\n",
    "# Computes overall runtime in seconds\n",
    "tot_time = end_time - start_time\n",
    "\n",
    "# Prints overall runtime in seconds\n",
    "print(\"\\nTotal Elapsed Runtime:\", tot_time, \"in seconds.\")\n",
    "\n",
    "# Prints overall runtime in format hh:mm:ss\n",
    "print(\"\\nTotal Elapsed Runtime:\", str( int( (tot_time / 3600) ) ) + \":\" +\n",
    "          str( int(  ( (tot_time % 3600) / 60 )  ) ) + \":\" + \n",
    "          str( int(  ( (tot_time % 3600) % 60 ) ) ) ) "
   ]
  }
 ],
 "metadata": {
  "kernelspec": {
   "display_name": "Python 3.10.6 ('test')",
   "language": "python",
   "name": "python3"
  },
  "language_info": {
   "codemirror_mode": {
    "name": "ipython",
    "version": 3
   },
   "file_extension": ".py",
   "mimetype": "text/x-python",
   "name": "python",
   "nbconvert_exporter": "python",
   "pygments_lexer": "ipython3",
   "version": "3.10.6"
  },
  "orig_nbformat": 4,
  "vscode": {
   "interpreter": {
    "hash": "14603a3ed1299574cbfecfa53f65f407f727394bdda1e8c7fe20d5d57efd7def"
   }
  }
 },
 "nbformat": 4,
 "nbformat_minor": 2
}
